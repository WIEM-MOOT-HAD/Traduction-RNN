{
 "cells": [
  {
   "cell_type": "code",
   "execution_count": null,
   "metadata": {},
   "outputs": [],
   "source": [
    "# Install the dependencies if not installed\n",
    "!pip install --upgrade tensorflow-gpu=2.3.0\n",
    "\n",
    "!pip install nltk\n",
    "\n",
    "!pip install gensim\n",
    "\n",
    "!pip install spacy\n",
    "\n",
    "!pip install plotly\n",
    "\n",
    "!pip install pandas\n",
    "\n",
    "!pip install numpy\n",
    "\n",
    "!pip install matplotlib\n",
    "\n",
    "!pip install seaborn\n",
    "\n",
    "!pip install wordcloud\n",
    "\n",
    "!pip install sklearn"
   ]
  },
  {
   "cell_type": "code",
   "execution_count": 37,
   "metadata": {},
   "outputs": [],
   "source": [
    "# Here we will import all required libraries\n",
    "\n",
    "import numpy as np\n",
    "import pandas as pd\n",
    "import re\n",
    "import nltk\n",
    "from nltk.tokenize import word_tokenize\n",
    "from tensorflow.keras.preprocessing.text import Tokenizer\n",
    "from tensorflow.keras.preprocessing.sequence import pad_sequences\n",
    "from sklearn.model_selection import train_test_split\n",
    "from tensorflow.keras.models import Sequential\n",
    "from tensorflow.keras.layers import Dense, Flatten, TimeDistributed, LSTM, Embedding, RepeatVector\n",
    "import tensorflow as tf"
   ]
  },
  {
   "cell_type": "code",
   "execution_count": 2,
   "metadata": {},
   "outputs": [
    {
     "name": "stderr",
     "output_type": "stream",
     "text": [
      "<ipython-input-2-b3930b5e8576>:2: ParserWarning: Falling back to the 'python' engine because the 'c' engine does not support regex separators (separators > 1 char and different from '\\s+' are interpreted as regex); you can avoid this warning by specifying engine='python'.\n",
      "  df_english = pd.read_csv('small_vocab_en.csv', sep='/t', names=['english'])\n",
      "<ipython-input-2-b3930b5e8576>:3: ParserWarning: Falling back to the 'python' engine because the 'c' engine does not support regex separators (separators > 1 char and different from '\\s+' are interpreted as regex); you can avoid this warning by specifying engine='python'.\n",
      "  df_french = pd.read_csv('small_vocab_fr.csv', sep='/t', names=['french'])\n"
     ]
    }
   ],
   "source": [
    "# Load the dataset\n",
    "df_english = pd.read_csv('small_vocab_en.csv', sep='/t', names=['english'])\n",
    "df_french = pd.read_csv('small_vocab_fr.csv', sep='/t', names=['french'])"
   ]
  },
  {
   "cell_type": "code",
   "execution_count": 3,
   "metadata": {},
   "outputs": [
    {
     "data": {
      "text/html": [
       "<div>\n",
       "<style scoped>\n",
       "    .dataframe tbody tr th:only-of-type {\n",
       "        vertical-align: middle;\n",
       "    }\n",
       "\n",
       "    .dataframe tbody tr th {\n",
       "        vertical-align: top;\n",
       "    }\n",
       "\n",
       "    .dataframe thead th {\n",
       "        text-align: right;\n",
       "    }\n",
       "</style>\n",
       "<table border=\"1\" class=\"dataframe\">\n",
       "  <thead>\n",
       "    <tr style=\"text-align: right;\">\n",
       "      <th></th>\n",
       "      <th>english</th>\n",
       "    </tr>\n",
       "  </thead>\n",
       "  <tbody>\n",
       "    <tr>\n",
       "      <th>0</th>\n",
       "      <td>new jersey is sometimes quiet during autumn , ...</td>\n",
       "    </tr>\n",
       "    <tr>\n",
       "      <th>1</th>\n",
       "      <td>the united states is usually chilly during jul...</td>\n",
       "    </tr>\n",
       "    <tr>\n",
       "      <th>2</th>\n",
       "      <td>california is usually quiet during march , and...</td>\n",
       "    </tr>\n",
       "    <tr>\n",
       "      <th>3</th>\n",
       "      <td>the united states is sometimes mild during jun...</td>\n",
       "    </tr>\n",
       "    <tr>\n",
       "      <th>4</th>\n",
       "      <td>your least liked fruit is the grape , but my l...</td>\n",
       "    </tr>\n",
       "    <tr>\n",
       "      <th>...</th>\n",
       "      <td>...</td>\n",
       "    </tr>\n",
       "    <tr>\n",
       "      <th>137855</th>\n",
       "      <td>france is never busy during march , and it is ...</td>\n",
       "    </tr>\n",
       "    <tr>\n",
       "      <th>137856</th>\n",
       "      <td>india is sometimes beautiful during spring , a...</td>\n",
       "    </tr>\n",
       "    <tr>\n",
       "      <th>137857</th>\n",
       "      <td>india is never wet during summer , but it is s...</td>\n",
       "    </tr>\n",
       "    <tr>\n",
       "      <th>137858</th>\n",
       "      <td>france is never chilly during january , but it...</td>\n",
       "    </tr>\n",
       "    <tr>\n",
       "      <th>137859</th>\n",
       "      <td>the orange is her favorite fruit , but the ban...</td>\n",
       "    </tr>\n",
       "  </tbody>\n",
       "</table>\n",
       "<p>137860 rows × 1 columns</p>\n",
       "</div>"
      ],
      "text/plain": [
       "                                                  english\n",
       "0       new jersey is sometimes quiet during autumn , ...\n",
       "1       the united states is usually chilly during jul...\n",
       "2       california is usually quiet during march , and...\n",
       "3       the united states is sometimes mild during jun...\n",
       "4       your least liked fruit is the grape , but my l...\n",
       "...                                                   ...\n",
       "137855  france is never busy during march , and it is ...\n",
       "137856  india is sometimes beautiful during spring , a...\n",
       "137857  india is never wet during summer , but it is s...\n",
       "137858  france is never chilly during january , but it...\n",
       "137859  the orange is her favorite fruit , but the ban...\n",
       "\n",
       "[137860 rows x 1 columns]"
      ]
     },
     "execution_count": 3,
     "metadata": {},
     "output_type": "execute_result"
    }
   ],
   "source": [
    "# Visualize english data\n",
    "df_english"
   ]
  },
  {
   "cell_type": "code",
   "execution_count": 4,
   "metadata": {},
   "outputs": [
    {
     "data": {
      "text/html": [
       "<div>\n",
       "<style scoped>\n",
       "    .dataframe tbody tr th:only-of-type {\n",
       "        vertical-align: middle;\n",
       "    }\n",
       "\n",
       "    .dataframe tbody tr th {\n",
       "        vertical-align: top;\n",
       "    }\n",
       "\n",
       "    .dataframe thead th {\n",
       "        text-align: right;\n",
       "    }\n",
       "</style>\n",
       "<table border=\"1\" class=\"dataframe\">\n",
       "  <thead>\n",
       "    <tr style=\"text-align: right;\">\n",
       "      <th></th>\n",
       "      <th>french</th>\n",
       "    </tr>\n",
       "  </thead>\n",
       "  <tbody>\n",
       "    <tr>\n",
       "      <th>0</th>\n",
       "      <td>new jersey est parfois calme pendant l' automn...</td>\n",
       "    </tr>\n",
       "    <tr>\n",
       "      <th>1</th>\n",
       "      <td>les Ã©tats-unis est gÃ©nÃ©ralement froid en ju...</td>\n",
       "    </tr>\n",
       "    <tr>\n",
       "      <th>2</th>\n",
       "      <td>california est gÃ©nÃ©ralement calme en mars , ...</td>\n",
       "    </tr>\n",
       "    <tr>\n",
       "      <th>3</th>\n",
       "      <td>les Ã©tats-unis est parfois lÃ©gÃ¨re en juin ,...</td>\n",
       "    </tr>\n",
       "    <tr>\n",
       "      <th>4</th>\n",
       "      <td>votre moins aimÃ© fruit est le raisin , mais m...</td>\n",
       "    </tr>\n",
       "    <tr>\n",
       "      <th>...</th>\n",
       "      <td>...</td>\n",
       "    </tr>\n",
       "    <tr>\n",
       "      <th>137855</th>\n",
       "      <td>la france est jamais occupÃ©e en mars , et il ...</td>\n",
       "    </tr>\n",
       "    <tr>\n",
       "      <th>137856</th>\n",
       "      <td>l' inde est parfois belle au printemps , et il...</td>\n",
       "    </tr>\n",
       "    <tr>\n",
       "      <th>137857</th>\n",
       "      <td>l' inde est jamais mouillÃ© pendant l' Ã©tÃ© ,...</td>\n",
       "    </tr>\n",
       "    <tr>\n",
       "      <th>137858</th>\n",
       "      <td>la france est jamais froid en janvier , mais i...</td>\n",
       "    </tr>\n",
       "    <tr>\n",
       "      <th>137859</th>\n",
       "      <td>l'orange est son fruit prÃ©fÃ©rÃ© , mais la ba...</td>\n",
       "    </tr>\n",
       "  </tbody>\n",
       "</table>\n",
       "<p>137860 rows × 1 columns</p>\n",
       "</div>"
      ],
      "text/plain": [
       "                                                   french\n",
       "0       new jersey est parfois calme pendant l' automn...\n",
       "1       les Ã©tats-unis est gÃ©nÃ©ralement froid en ju...\n",
       "2       california est gÃ©nÃ©ralement calme en mars , ...\n",
       "3       les Ã©tats-unis est parfois lÃ©gÃ¨re en juin ,...\n",
       "4       votre moins aimÃ© fruit est le raisin , mais m...\n",
       "...                                                   ...\n",
       "137855  la france est jamais occupÃ©e en mars , et il ...\n",
       "137856  l' inde est parfois belle au printemps , et il...\n",
       "137857  l' inde est jamais mouillÃ© pendant l' Ã©tÃ© ,...\n",
       "137858  la france est jamais froid en janvier , mais i...\n",
       "137859  l'orange est son fruit prÃ©fÃ©rÃ© , mais la ba...\n",
       "\n",
       "[137860 rows x 1 columns]"
      ]
     },
     "execution_count": 4,
     "metadata": {},
     "output_type": "execute_result"
    }
   ],
   "source": [
    "# Visualize french data\n",
    "df_french"
   ]
  },
  {
   "cell_type": "code",
   "execution_count": 5,
   "metadata": {},
   "outputs": [
    {
     "name": "stdout",
     "output_type": "stream",
     "text": [
      "english    0\n",
      "dtype: int64\n",
      "french    0\n",
      "dtype: int64\n"
     ]
    }
   ],
   "source": [
    "# Check if there is any NULL data\n",
    "print(df_english.isnull().sum())\n",
    "print(df_french.isnull().sum())"
   ]
  },
  {
   "cell_type": "code",
   "execution_count": 8,
   "metadata": {},
   "outputs": [
    {
     "data": {
      "text/html": [
       "<div>\n",
       "<style scoped>\n",
       "    .dataframe tbody tr th:only-of-type {\n",
       "        vertical-align: middle;\n",
       "    }\n",
       "\n",
       "    .dataframe tbody tr th {\n",
       "        vertical-align: top;\n",
       "    }\n",
       "\n",
       "    .dataframe thead th {\n",
       "        text-align: right;\n",
       "    }\n",
       "</style>\n",
       "<table border=\"1\" class=\"dataframe\">\n",
       "  <thead>\n",
       "    <tr style=\"text-align: right;\">\n",
       "      <th></th>\n",
       "      <th>english</th>\n",
       "      <th>french</th>\n",
       "    </tr>\n",
       "  </thead>\n",
       "  <tbody>\n",
       "    <tr>\n",
       "      <th>0</th>\n",
       "      <td>new jersey is sometimes quiet during autumn , ...</td>\n",
       "      <td>new jersey est parfois calme pendant l' automn...</td>\n",
       "    </tr>\n",
       "    <tr>\n",
       "      <th>1</th>\n",
       "      <td>the united states is usually chilly during jul...</td>\n",
       "      <td>les Ã©tats-unis est gÃ©nÃ©ralement froid en ju...</td>\n",
       "    </tr>\n",
       "    <tr>\n",
       "      <th>2</th>\n",
       "      <td>california is usually quiet during march , and...</td>\n",
       "      <td>california est gÃ©nÃ©ralement calme en mars , ...</td>\n",
       "    </tr>\n",
       "    <tr>\n",
       "      <th>3</th>\n",
       "      <td>the united states is sometimes mild during jun...</td>\n",
       "      <td>les Ã©tats-unis est parfois lÃ©gÃ¨re en juin ,...</td>\n",
       "    </tr>\n",
       "    <tr>\n",
       "      <th>4</th>\n",
       "      <td>your least liked fruit is the grape , but my l...</td>\n",
       "      <td>votre moins aimÃ© fruit est le raisin , mais m...</td>\n",
       "    </tr>\n",
       "    <tr>\n",
       "      <th>...</th>\n",
       "      <td>...</td>\n",
       "      <td>...</td>\n",
       "    </tr>\n",
       "    <tr>\n",
       "      <th>137855</th>\n",
       "      <td>france is never busy during march , and it is ...</td>\n",
       "      <td>la france est jamais occupÃ©e en mars , et il ...</td>\n",
       "    </tr>\n",
       "    <tr>\n",
       "      <th>137856</th>\n",
       "      <td>india is sometimes beautiful during spring , a...</td>\n",
       "      <td>l' inde est parfois belle au printemps , et il...</td>\n",
       "    </tr>\n",
       "    <tr>\n",
       "      <th>137857</th>\n",
       "      <td>india is never wet during summer , but it is s...</td>\n",
       "      <td>l' inde est jamais mouillÃ© pendant l' Ã©tÃ© ,...</td>\n",
       "    </tr>\n",
       "    <tr>\n",
       "      <th>137858</th>\n",
       "      <td>france is never chilly during january , but it...</td>\n",
       "      <td>la france est jamais froid en janvier , mais i...</td>\n",
       "    </tr>\n",
       "    <tr>\n",
       "      <th>137859</th>\n",
       "      <td>the orange is her favorite fruit , but the ban...</td>\n",
       "      <td>l'orange est son fruit prÃ©fÃ©rÃ© , mais la ba...</td>\n",
       "    </tr>\n",
       "  </tbody>\n",
       "</table>\n",
       "<p>137860 rows × 2 columns</p>\n",
       "</div>"
      ],
      "text/plain": [
       "                                                  english  \\\n",
       "0       new jersey is sometimes quiet during autumn , ...   \n",
       "1       the united states is usually chilly during jul...   \n",
       "2       california is usually quiet during march , and...   \n",
       "3       the united states is sometimes mild during jun...   \n",
       "4       your least liked fruit is the grape , but my l...   \n",
       "...                                                   ...   \n",
       "137855  france is never busy during march , and it is ...   \n",
       "137856  india is sometimes beautiful during spring , a...   \n",
       "137857  india is never wet during summer , but it is s...   \n",
       "137858  france is never chilly during january , but it...   \n",
       "137859  the orange is her favorite fruit , but the ban...   \n",
       "\n",
       "                                                   french  \n",
       "0       new jersey est parfois calme pendant l' automn...  \n",
       "1       les Ã©tats-unis est gÃ©nÃ©ralement froid en ju...  \n",
       "2       california est gÃ©nÃ©ralement calme en mars , ...  \n",
       "3       les Ã©tats-unis est parfois lÃ©gÃ¨re en juin ,...  \n",
       "4       votre moins aimÃ© fruit est le raisin , mais m...  \n",
       "...                                                   ...  \n",
       "137855  la france est jamais occupÃ©e en mars , et il ...  \n",
       "137856  l' inde est parfois belle au printemps , et il...  \n",
       "137857  l' inde est jamais mouillÃ© pendant l' Ã©tÃ© ,...  \n",
       "137858  la france est jamais froid en janvier , mais i...  \n",
       "137859  l'orange est son fruit prÃ©fÃ©rÃ© , mais la ba...  \n",
       "\n",
       "[137860 rows x 2 columns]"
      ]
     },
     "execution_count": 8,
     "metadata": {},
     "output_type": "execute_result"
    }
   ],
   "source": [
    "# Concat both side by side for easy viewing\n",
    "df = pd.concat([df_english, df_french], axis=1)\n",
    "df"
   ]
  },
  {
   "cell_type": "code",
   "execution_count": 9,
   "metadata": {},
   "outputs": [],
   "source": [
    "def remove_punc(x):\n",
    "    return re.sub('[!#?,.:\";]', '', x)"
   ]
  },
  {
   "cell_type": "code",
   "execution_count": 10,
   "metadata": {},
   "outputs": [],
   "source": [
    "df['english'] = df['english'].apply(remove_punc)\n",
    "df['french'] = df['french'].apply(remove_punc)"
   ]
  },
  {
   "cell_type": "code",
   "execution_count": 11,
   "metadata": {},
   "outputs": [
    {
     "data": {
      "text/html": [
       "<div>\n",
       "<style scoped>\n",
       "    .dataframe tbody tr th:only-of-type {\n",
       "        vertical-align: middle;\n",
       "    }\n",
       "\n",
       "    .dataframe tbody tr th {\n",
       "        vertical-align: top;\n",
       "    }\n",
       "\n",
       "    .dataframe thead th {\n",
       "        text-align: right;\n",
       "    }\n",
       "</style>\n",
       "<table border=\"1\" class=\"dataframe\">\n",
       "  <thead>\n",
       "    <tr style=\"text-align: right;\">\n",
       "      <th></th>\n",
       "      <th>english</th>\n",
       "      <th>french</th>\n",
       "    </tr>\n",
       "  </thead>\n",
       "  <tbody>\n",
       "    <tr>\n",
       "      <th>0</th>\n",
       "      <td>new jersey is sometimes quiet during autumn  a...</td>\n",
       "      <td>new jersey est parfois calme pendant l' automn...</td>\n",
       "    </tr>\n",
       "    <tr>\n",
       "      <th>1</th>\n",
       "      <td>the united states is usually chilly during jul...</td>\n",
       "      <td>les Ã©tats-unis est gÃ©nÃ©ralement froid en ju...</td>\n",
       "    </tr>\n",
       "    <tr>\n",
       "      <th>2</th>\n",
       "      <td>california is usually quiet during march  and ...</td>\n",
       "      <td>california est gÃ©nÃ©ralement calme en mars  e...</td>\n",
       "    </tr>\n",
       "    <tr>\n",
       "      <th>3</th>\n",
       "      <td>the united states is sometimes mild during jun...</td>\n",
       "      <td>les Ã©tats-unis est parfois lÃ©gÃ¨re en juin  ...</td>\n",
       "    </tr>\n",
       "    <tr>\n",
       "      <th>4</th>\n",
       "      <td>your least liked fruit is the grape  but my le...</td>\n",
       "      <td>votre moins aimÃ© fruit est le raisin  mais mo...</td>\n",
       "    </tr>\n",
       "    <tr>\n",
       "      <th>...</th>\n",
       "      <td>...</td>\n",
       "      <td>...</td>\n",
       "    </tr>\n",
       "    <tr>\n",
       "      <th>137855</th>\n",
       "      <td>france is never busy during march  and it is s...</td>\n",
       "      <td>la france est jamais occupÃ©e en mars  et il e...</td>\n",
       "    </tr>\n",
       "    <tr>\n",
       "      <th>137856</th>\n",
       "      <td>india is sometimes beautiful during spring  an...</td>\n",
       "      <td>l' inde est parfois belle au printemps  et il ...</td>\n",
       "    </tr>\n",
       "    <tr>\n",
       "      <th>137857</th>\n",
       "      <td>india is never wet during summer  but it is so...</td>\n",
       "      <td>l' inde est jamais mouillÃ© pendant l' Ã©tÃ©  ...</td>\n",
       "    </tr>\n",
       "    <tr>\n",
       "      <th>137858</th>\n",
       "      <td>france is never chilly during january  but it ...</td>\n",
       "      <td>la france est jamais froid en janvier  mais il...</td>\n",
       "    </tr>\n",
       "    <tr>\n",
       "      <th>137859</th>\n",
       "      <td>the orange is her favorite fruit  but the bana...</td>\n",
       "      <td>l'orange est son fruit prÃ©fÃ©rÃ©  mais la ban...</td>\n",
       "    </tr>\n",
       "  </tbody>\n",
       "</table>\n",
       "<p>137860 rows × 2 columns</p>\n",
       "</div>"
      ],
      "text/plain": [
       "                                                  english  \\\n",
       "0       new jersey is sometimes quiet during autumn  a...   \n",
       "1       the united states is usually chilly during jul...   \n",
       "2       california is usually quiet during march  and ...   \n",
       "3       the united states is sometimes mild during jun...   \n",
       "4       your least liked fruit is the grape  but my le...   \n",
       "...                                                   ...   \n",
       "137855  france is never busy during march  and it is s...   \n",
       "137856  india is sometimes beautiful during spring  an...   \n",
       "137857  india is never wet during summer  but it is so...   \n",
       "137858  france is never chilly during january  but it ...   \n",
       "137859  the orange is her favorite fruit  but the bana...   \n",
       "\n",
       "                                                   french  \n",
       "0       new jersey est parfois calme pendant l' automn...  \n",
       "1       les Ã©tats-unis est gÃ©nÃ©ralement froid en ju...  \n",
       "2       california est gÃ©nÃ©ralement calme en mars  e...  \n",
       "3       les Ã©tats-unis est parfois lÃ©gÃ¨re en juin  ...  \n",
       "4       votre moins aimÃ© fruit est le raisin  mais mo...  \n",
       "...                                                   ...  \n",
       "137855  la france est jamais occupÃ©e en mars  et il e...  \n",
       "137856  l' inde est parfois belle au printemps  et il ...  \n",
       "137857  l' inde est jamais mouillÃ© pendant l' Ã©tÃ©  ...  \n",
       "137858  la france est jamais froid en janvier  mais il...  \n",
       "137859  l'orange est son fruit prÃ©fÃ©rÃ©  mais la ban...  \n",
       "\n",
       "[137860 rows x 2 columns]"
      ]
     },
     "execution_count": 11,
     "metadata": {},
     "output_type": "execute_result"
    }
   ],
   "source": [
    "df"
   ]
  },
  {
   "cell_type": "code",
   "execution_count": 13,
   "metadata": {},
   "outputs": [
    {
     "name": "stdout",
     "output_type": "stream",
     "text": [
      "Number of unique english words  199\n",
      "Number of unique english words  350\n"
     ]
    }
   ],
   "source": [
    "# To get number of unique words\n",
    "\n",
    "english_words = []\n",
    "french_words = []\n",
    "\n",
    "def get_unique(x, word_list):\n",
    "    for word in x.split():\n",
    "        if word not in word_list:\n",
    "            word_list.append(word)\n",
    "        \n",
    "df['english'].apply(lambda x:get_unique(x,english_words))\n",
    "df['french'].apply(lambda x:get_unique(x,french_words))\n",
    "\n",
    "total_english_words = len(english_words)\n",
    "total_french_words = len(french_words)\n",
    "\n",
    "print(\"Number of unique english words \", total_english_words)\n",
    "print(\"Number of unique english words \", total_french_words)"
   ]
  },
  {
   "cell_type": "code",
   "execution_count": 14,
   "metadata": {},
   "outputs": [
    {
     "name": "stdout",
     "output_type": "stream",
     "text": [
      "Max number of words in any english sentence is  15\n",
      "Max number of words in any french sentence is  24\n"
     ]
    }
   ],
   "source": [
    "# Find max number of words in sentence so we can later do padding\n",
    "\n",
    "maxlen_english = -1\n",
    "for doc in df.english:\n",
    "    tokens = nltk.word_tokenize(doc)\n",
    "    if maxlen_english < len(tokens):\n",
    "        maxlen_english = len(tokens)\n",
    "        \n",
    "print(\"Max number of words in any english sentence is \", maxlen_english)\n",
    "\n",
    "maxlen_french = -1\n",
    "for doc in df.french:\n",
    "    tokens = nltk.word_tokenize(doc)\n",
    "    if maxlen_french < len(tokens):\n",
    "        maxlen_french = len(tokens)\n",
    "        \n",
    "print(\"Max number of words in any french sentence is \", maxlen_french)"
   ]
  },
  {
   "cell_type": "code",
   "execution_count": 19,
   "metadata": {},
   "outputs": [],
   "source": [
    "# Create a tokenier to tokenize the words and create sequences of tokenized words\n",
    "def tokenize_and_pad(x,maxlen):\n",
    "    tokenizer = Tokenizer(char_level = False)\n",
    "    tokenizer.fit_on_texts(x)\n",
    "    sequences = tokenizer.texts_to_sequences(x)\n",
    "    padded = pad_sequences(sequences, maxlen=maxlen, padding = 'post')\n",
    "    return tokenizer, sequences, padded"
   ]
  },
  {
   "cell_type": "code",
   "execution_count": 20,
   "metadata": {},
   "outputs": [],
   "source": [
    "x_tokenizer, x_sequences, x_padded = tokenize_and_pad(df.english, maxlen_english)\n",
    "y_tokenizer, y_sequences, y_padded = tokenize_and_pad(df.french,  maxlen_french)"
   ]
  },
  {
   "cell_type": "code",
   "execution_count": 22,
   "metadata": {},
   "outputs": [
    {
     "name": "stdout",
     "output_type": "stream",
     "text": [
      "The tokenized version for english document\n",
      " the orange is her favorite fruit  but the banana is your favorite  \n",
      " is :  [[ 5 84  1 32 11 13  6  5 87  1 29 11  0  0  0]]\n",
      "\n",
      " \n",
      "\n",
      "The tokenized version for french document\n",
      " l'orange est son fruit prÃ©fÃ©rÃ©  mais la banane est votre favori  \n",
      " is :  [[84  1 20 16 17  5  7 87  1 40 93  0  0  0  0  0  0  0  0  0  0  0  0  0]]\n"
     ]
    }
   ],
   "source": [
    "# Visualize example of a token\n",
    "print(\"The tokenized version for english document\\n\", df.english[-1:].item(),\"\\n is : \", x_padded[-1:])\n",
    "\n",
    "print(\"\\n \\n\")\n",
    "\n",
    "print(\"The tokenized version for french document\\n\", df.french[-1:].item(),\"\\n is : \", y_padded[-1:])"
   ]
  },
  {
   "cell_type": "code",
   "execution_count": 25,
   "metadata": {},
   "outputs": [],
   "source": [
    "# Function to obtain text from padded\n",
    "def pad_to_text(padded, tokenizer):\n",
    "    id_to_word = {id: word for word, id in tokenizer.word_index.items()}\n",
    "    id_to_word[0] = ''\n",
    "    \n",
    "    return ' '.join([id_to_word[j] for j in padded])"
   ]
  },
  {
   "cell_type": "code",
   "execution_count": 26,
   "metadata": {},
   "outputs": [
    {
     "data": {
      "text/plain": [
       "\"new jersey est parfois calme pendant l' automne et il est neigeux en avril          \""
      ]
     },
     "execution_count": 26,
     "metadata": {},
     "output_type": "execute_result"
    }
   ],
   "source": [
    "pad_to_text(y_padded[0], y_tokenizer)"
   ]
  },
  {
   "cell_type": "code",
   "execution_count": 35,
   "metadata": {},
   "outputs": [],
   "source": [
    "# Split data into train and test set\n",
    "x_train, x_test, y_train, y_test = train_test_split(x_padded, y_padded, test_size=0.1)"
   ]
  },
  {
   "cell_type": "code",
   "execution_count": 30,
   "metadata": {},
   "outputs": [
    {
     "name": "stdout",
     "output_type": "stream",
     "text": [
      "Complete English Vocab Size: 200\n",
      "Complete French Vocab Size: 351\n"
     ]
    }
   ],
   "source": [
    "# Total vocab size, since we added padding we add 1 to the total word count\n",
    "english_vocab_size = total_english_words + 1\n",
    "print(\"Complete English Vocab Size:\", english_vocab_size)\n",
    "\n",
    "french_vocab_size = total_french_words + 1\n",
    "print(\"Complete French Vocab Size:\", french_vocab_size)"
   ]
  },
  {
   "cell_type": "code",
   "execution_count": 33,
   "metadata": {},
   "outputs": [
    {
     "name": "stdout",
     "output_type": "stream",
     "text": [
      "Model: \"sequential_1\"\n",
      "_________________________________________________________________\n",
      "Layer (type)                 Output Shape              Param #   \n",
      "=================================================================\n",
      "embedding (Embedding)        (None, 15, 256)           51200     \n",
      "_________________________________________________________________\n",
      "lstm (LSTM)                  (None, 256)               525312    \n",
      "_________________________________________________________________\n",
      "repeat_vector (RepeatVector) (None, 24, 256)           0         \n",
      "_________________________________________________________________\n",
      "lstm_1 (LSTM)                (None, 24, 256)           525312    \n",
      "_________________________________________________________________\n",
      "time_distributed (TimeDistri (None, 24, 351)           90207     \n",
      "=================================================================\n",
      "Total params: 1,192,031\n",
      "Trainable params: 1,192,031\n",
      "Non-trainable params: 0\n",
      "_________________________________________________________________\n"
     ]
    }
   ],
   "source": [
    "#BUILDING THE MODEL\n",
    "model = Sequential()\n",
    "\n",
    "# Add an embedding layer\n",
    "model.add(Embedding(english_vocab_size, 256, input_length = maxlen_english, mask_zero = True))\n",
    "\n",
    "# Encoder\n",
    "model.add(LSTM(256))\n",
    "\n",
    "# decoder\n",
    "# repeatvector repeats the input for the desired number of times to change 2D-array to 3D array\n",
    "model.add(RepeatVector(maxlen_french))\n",
    "model.add(LSTM(256, return_sequences = True))\n",
    "model.add(TimeDistributed(Dense(french_vocab_size, activation = 'softmax')))\n",
    "model.compile(optimizer='adam', loss='sparse_categorical_crossentropy', metrics=['accuracy'])\n",
    "\n",
    "model.summary()"
   ]
  },
  {
   "cell_type": "code",
   "execution_count": 36,
   "metadata": {},
   "outputs": [
    {
     "data": {
      "text/plain": [
       "(124074, 24, 1)"
      ]
     },
     "execution_count": 36,
     "metadata": {},
     "output_type": "execute_result"
    }
   ],
   "source": [
    "# change the shape of target from 2D to 3D\n",
    "y_train = np.expand_dims(y_train, axis = 2)\n",
    "y_train.shape"
   ]
  },
  {
   "cell_type": "code",
   "execution_count": 38,
   "metadata": {},
   "outputs": [
    {
     "name": "stdout",
     "output_type": "stream",
     "text": [
      "Epoch 1/20\n",
      "873/873 [==============================] - 23s 26ms/step - loss: 1.4834 - accuracy: 0.6417 - val_loss: 0.9152 - val_accuracy: 0.7375\n",
      "Epoch 2/20\n",
      "873/873 [==============================] - 22s 25ms/step - loss: 0.7289 - accuracy: 0.7864 - val_loss: 0.5711 - val_accuracy: 0.8326\n",
      "Epoch 3/20\n",
      "873/873 [==============================] - 22s 25ms/step - loss: 0.4627 - accuracy: 0.8639 - val_loss: 0.3611 - val_accuracy: 0.8937\n",
      "Epoch 4/20\n",
      "873/873 [==============================] - 22s 25ms/step - loss: 0.2793 - accuracy: 0.9203 - val_loss: 0.2143 - val_accuracy: 0.9404\n",
      "Epoch 5/20\n",
      "873/873 [==============================] - 22s 25ms/step - loss: 0.1737 - accuracy: 0.9516 - val_loss: 0.1453 - val_accuracy: 0.9581\n",
      "Epoch 6/20\n",
      "873/873 [==============================] - 22s 25ms/step - loss: 0.1267 - accuracy: 0.9636 - val_loss: 0.1188 - val_accuracy: 0.9651\n",
      "Epoch 7/20\n",
      "873/873 [==============================] - 22s 25ms/step - loss: 0.1042 - accuracy: 0.9690 - val_loss: 0.1018 - val_accuracy: 0.9697\n",
      "Epoch 8/20\n",
      "873/873 [==============================] - 22s 25ms/step - loss: 0.0882 - accuracy: 0.9735 - val_loss: 0.0848 - val_accuracy: 0.9744\n",
      "Epoch 9/20\n",
      "873/873 [==============================] - 22s 25ms/step - loss: 0.0750 - accuracy: 0.9773 - val_loss: 0.0795 - val_accuracy: 0.9760\n",
      "Epoch 10/20\n",
      "873/873 [==============================] - 22s 25ms/step - loss: 0.0623 - accuracy: 0.9811 - val_loss: 0.0652 - val_accuracy: 0.9801\n",
      "Epoch 11/20\n",
      "873/873 [==============================] - 22s 25ms/step - loss: 0.0553 - accuracy: 0.9832 - val_loss: 0.0754 - val_accuracy: 0.9780\n",
      "Epoch 12/20\n",
      "873/873 [==============================] - 22s 25ms/step - loss: 0.0536 - accuracy: 0.9838 - val_loss: 0.0652 - val_accuracy: 0.9805\n",
      "Epoch 13/20\n",
      "873/873 [==============================] - 22s 25ms/step - loss: 0.0461 - accuracy: 0.9861 - val_loss: 0.0542 - val_accuracy: 0.9835\n",
      "Epoch 14/20\n",
      "873/873 [==============================] - 22s 25ms/step - loss: 0.0396 - accuracy: 0.9880 - val_loss: 0.0527 - val_accuracy: 0.9839\n",
      "Epoch 15/20\n",
      "873/873 [==============================] - 22s 25ms/step - loss: 0.0401 - accuracy: 0.9879 - val_loss: 0.0548 - val_accuracy: 0.9837\n",
      "Epoch 16/20\n",
      "873/873 [==============================] - 22s 25ms/step - loss: 0.0336 - accuracy: 0.9899 - val_loss: 0.0573 - val_accuracy: 0.9829\n",
      "Epoch 17/20\n",
      "873/873 [==============================] - 22s 25ms/step - loss: 0.0303 - accuracy: 0.9907 - val_loss: 0.0489 - val_accuracy: 0.9852\n",
      "Epoch 18/20\n",
      "873/873 [==============================] - 22s 26ms/step - loss: 0.0310 - accuracy: 0.9907 - val_loss: 0.0523 - val_accuracy: 0.9845\n",
      "Epoch 19/20\n",
      "873/873 [==============================] - 22s 25ms/step - loss: 0.0282 - accuracy: 0.9915 - val_loss: 0.0491 - val_accuracy: 0.9864\n",
      "Epoch 20/20\n",
      "873/873 [==============================] - 22s 26ms/step - loss: 0.0225 - accuracy: 0.9932 - val_loss: 0.0462 - val_accuracy: 0.9870\n"
     ]
    }
   ],
   "source": [
    "# Train the model\n",
    "with tf.device('/gpu:0'):\n",
    "    model.fit(x_train, y_train, batch_size=128, validation_split = 0.1, epochs=20)"
   ]
  },
  {
   "cell_type": "code",
   "execution_count": 39,
   "metadata": {},
   "outputs": [],
   "source": [
    "# function to make prediction\n",
    "def prediction(x, x_tokenizer = x_tokenizer, y_tokenizer = y_tokenizer):\n",
    "    predictions = model.predict(x)[0]\n",
    "    id_to_word = {id: word for word, id in y_tokenizer.word_index.items()}\n",
    "    id_to_word[0] = ''\n",
    "    return ' '.join([id_to_word[j] for j in np.argmax(predictions,1)])"
   ]
  },
  {
   "cell_type": "code",
   "execution_count": 40,
   "metadata": {},
   "outputs": [
    {
     "name": "stdout",
     "output_type": "stream",
     "text": [
      "Original English word - paris is quiet during november and it is pleasant in march    \n",
      "\n",
      "Original French word - paris est calme au mois de novembre et il est agrã©able en mars           \n",
      "\n",
      "Predicted French word - paris est calme au mois de novembre et il en mars             \n",
      "\n",
      "\n",
      "\n",
      "\n",
      "Original English word - he drives the rusty black truck         \n",
      "\n",
      "Original French word - il conduit le camion noir rouillã©                  \n",
      "\n",
      "Predicted French word - il conduit le camion noir rouillã©                  \n",
      "\n",
      "\n",
      "\n",
      "\n",
      "Original English word - paris is never beautiful during march but it is wonderful in november   \n",
      "\n",
      "Original French word - paris est jamais belle en mars mais il est merveilleux en novembre            \n",
      "\n",
      "Predicted French word - paris est jamais belle en mars mais il est merveilleux en novembre            \n",
      "\n",
      "\n",
      "\n",
      "\n",
      "Original English word - paris is sometimes snowy during october and it is never wonderful in summer  \n",
      "\n",
      "Original French word - paris est parfois enneigã©e en octobre et il est jamais merveilleux en ã©tã©           \n",
      "\n",
      "Predicted French word - paris est parfois enneigã©e en octobre et il est jamais merveilleux en ã©tã©           \n",
      "\n",
      "\n",
      "\n",
      "\n",
      "Original English word - paris is sometimes wonderful during fall but it is never relaxing in february  \n",
      "\n",
      "Original French word - paris est parfois merveilleux au cours de l' automne mais il est jamais relaxant en fã©vrier        \n",
      "\n",
      "Predicted French word - paris est parfois merveilleux au cours de l' automne mais il est jamais relaxant en fã©vrier        \n",
      "\n",
      "\n",
      "\n",
      "\n"
     ]
    }
   ],
   "source": [
    "# Let us take 5 examples\n",
    "for i in range(5):\n",
    "\n",
    "  print('Original English word - {}\\n'.format(pad_to_text(x_test[i], x_tokenizer)))\n",
    "  print('Original French word - {}\\n'.format(pad_to_text(y_test[i], y_tokenizer)))\n",
    "  print('Predicted French word - {}\\n\\n\\n\\n'.format(prediction(x_test[i:i+1])))"
   ]
  },
  {
   "cell_type": "code",
   "execution_count": 41,
   "metadata": {},
   "outputs": [],
   "source": [
    "# Save the weights separately\n",
    "model.save_weights('Final_weights.h5')\n",
    "\n",
    "#Save the model (including weights)\n",
    "model.save('model.h5')"
   ]
  },
  {
   "cell_type": "code",
   "execution_count": 43,
   "metadata": {},
   "outputs": [],
   "source": [
    "# To load to model we saved elsewhere\n",
    "model1 = tf.keras.models.load_model('model.h5')"
   ]
  },
  {
   "cell_type": "code",
   "execution_count": 53,
   "metadata": {},
   "outputs": [],
   "source": [
    "# To predict using the model we saved\n",
    "# function to make prediction\n",
    "def prediction(x, x_tokenizer = x_tokenizer, y_tokenizer = y_tokenizer):\n",
    "    predictions = model1.predict(x)[0]\n",
    "    id_to_word = {id: word for word, id in y_tokenizer.word_index.items()}\n",
    "    id_to_word[0] = ''\n",
    "    return ' '.join([id_to_word[j] for j in np.argmax(predictions,1)])"
   ]
  },
  {
   "cell_type": "code",
   "execution_count": 54,
   "metadata": {},
   "outputs": [
    {
     "name": "stdout",
     "output_type": "stream",
     "text": [
      "Predicted French word - paris est calme au mois de novembre et il en mars             \n",
      "\n",
      "\n",
      "\n",
      "\n"
     ]
    }
   ],
   "source": [
    "print('Predicted French word - {}\\n\\n\\n\\n'.format(prediction(x_test[0:1])))"
   ]
  },
  {
   "cell_type": "code",
   "execution_count": null,
   "metadata": {},
   "outputs": [],
   "source": []
  }
 ],
 "metadata": {
  "kernelspec": {
   "display_name": "Python 3 (ipykernel)",
   "language": "python",
   "name": "python3"
  },
  "language_info": {
   "codemirror_mode": {
    "name": "ipython",
    "version": 3
   },
   "file_extension": ".py",
   "mimetype": "text/x-python",
   "name": "python",
   "nbconvert_exporter": "python",
   "pygments_lexer": "ipython3",
   "version": "3.10.8"
  },
  "toc": {
   "base_numbering": 1,
   "nav_menu": {},
   "number_sections": true,
   "sideBar": true,
   "skip_h1_title": false,
   "title_cell": "Table of Contents",
   "title_sidebar": "Contents",
   "toc_cell": false,
   "toc_position": {},
   "toc_section_display": true,
   "toc_window_display": false
  },
  "varInspector": {
   "cols": {
    "lenName": 16,
    "lenType": 16,
    "lenVar": 40
   },
   "kernels_config": {
    "python": {
     "delete_cmd_postfix": "",
     "delete_cmd_prefix": "del ",
     "library": "var_list.py",
     "varRefreshCmd": "print(var_dic_list())"
    },
    "r": {
     "delete_cmd_postfix": ") ",
     "delete_cmd_prefix": "rm(",
     "library": "var_list.r",
     "varRefreshCmd": "cat(var_dic_list()) "
    }
   },
   "types_to_exclude": [
    "module",
    "function",
    "builtin_function_or_method",
    "instance",
    "_Feature"
   ],
   "window_display": false
  }
 },
 "nbformat": 4,
 "nbformat_minor": 4
}
