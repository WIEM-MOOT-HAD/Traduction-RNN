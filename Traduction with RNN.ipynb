{
 "cells": [
  {
   "cell_type": "markdown",
   "metadata": {},
   "source": [
    "# Import Librairies "
   ]
  },
  {
   "cell_type": "code",
   "execution_count": 1,
   "metadata": {
    "ExecuteTime": {
     "end_time": "2022-12-06T10:51:27.345510Z",
     "start_time": "2022-12-06T10:51:24.702961Z"
    },
    "scrolled": true
   },
   "outputs": [],
   "source": [
    "# manipulate data \n",
    "import seaborn as sns\n",
    "import pandas as pd\n",
    "import numpy as np\n",
    "#data vizualisation\n",
    "import matplotlib.pyplot as plt\n",
    "# from wordcloud import WordCloud, STOPWORDS\n",
    "import io\n",
    "\n",
    "# pre traitment & model\n",
    "from keras.losses import sparse_categorical_crossentropy\n",
    "from keras.models import Sequential\n",
    "from keras.preprocessing.text import Tokenizer\n",
    "from keras.utils import to_categorical\n",
    "from keras_preprocessing.sequence import pad_sequences\n",
    "from keras.models import Model\n",
    "from keras.layers import GRU, Input, Dense, TimeDistributed, Activation, RepeatVector, Bidirectional, Dropout, LSTM\n",
    "from tensorflow.keras.layers import Embedding\n",
    "from keras.optimizers import Adam\n",
    "from keras.losses import sparse_categorical_crossentropy"
   ]
  },
  {
   "cell_type": "markdown",
   "metadata": {},
   "source": [
    "# Upload data"
   ]
  },
  {
   "cell_type": "code",
   "execution_count": 2,
   "metadata": {
    "ExecuteTime": {
     "end_time": "2022-12-06T10:51:27.680560Z",
     "start_time": "2022-12-06T10:51:27.345510Z"
    }
   },
   "outputs": [],
   "source": [
    "french_sentences = open(\"./data/small_vocab_fr.txt\", encoding=\"utf-8\").read().split('\\n')\n",
    "english_sentences = open(\"./data/small_vocab_en.txt\", encoding=\"utf-8\").read().split('\\n')\n",
    "data_fr = pd.read_csv('./data/small_vocab_fr.txt', sep = \"\\t\", header = None)\n",
    "data_en = pd.read_csv('./data/small_vocab_en.txt', sep = \"\\t\", header = None)"
   ]
  },
  {
   "cell_type": "markdown",
   "metadata": {},
   "source": [
    "# tokenisation \n",
    "Pour qu'un réseau neuronal puisse prédire sur des données textuelles, celles-ci doivent d'abord être transformées en données qu'il peut comprendre. Des données textuelles comme \" chien \" sont une séquence d'encodages de caractères ASCII. Comme un réseau neuronal est une série d'opérations de multiplication et d'addition, les données d'entrée doivent être des nombres.\n",
    "\n",
    "Nous pouvons transformer chaque caractère en un nombre ou chaque mot en un nombre. On parle alors d'identifiants de caractères et de mots, respectivement. Les identifiants des caractères sont utilisés pour les modèles de niveau caractère qui génèrent des prédictions de texte pour chaque caractère. Un modèle au niveau du mot utilise des identifiants de mot qui génèrent des prédictions de texte pour chaque mot. Les modèles au niveau des mots ont tendance à mieux apprendre, car ils sont moins complexes, nous les utiliserons donc.\n",
    "\n",
    "Transformez chaque phrase en une séquence d'identifiants de mots en utilisant la fonction Tokenizer de Keras. Utilisez cette fonction pour tokeniser les phrases anglaises et françaises dans la cellule ci-dessous.\n",
    "\n",
    "L'exécution de la cellule lancera tokenize sur des données d'échantillon et montrera la sortie pour le débogage."
   ]
  },
  {
   "cell_type": "code",
   "execution_count": 3,
   "metadata": {
    "ExecuteTime": {
     "end_time": "2022-12-06T10:51:27.711948Z",
     "start_time": "2022-12-06T10:51:27.689693Z"
    },
    "code_folding": []
   },
   "outputs": [
    {
     "name": "stdout",
     "output_type": "stream",
     "text": [
      "{'the': 1, 'quick': 2, 'a': 3, 'brown': 4, 'fox': 5, 'jumps': 6, 'over': 7, 'lazy': 8, 'dog': 9, 'by': 10, 'jove': 11, 'my': 12, 'study': 13, 'of': 14, 'lexicography': 15, 'won': 16, 'prize': 17, 'this': 18, 'is': 19, 'short': 20, 'sentence': 21}\n",
      "\n",
      "Sequence 1 in x\n",
      "  Input:  The quick brown fox jumps over the lazy dog .\n",
      "  Output: [1, 2, 4, 5, 6, 7, 1, 8, 9]\n",
      "Sequence 2 in x\n",
      "  Input:  By Jove , my quick study of lexicography won a prize .\n",
      "  Output: [10, 11, 12, 2, 13, 14, 15, 16, 3, 17]\n",
      "Sequence 3 in x\n",
      "  Input:  This is a short sentence .\n",
      "  Output: [18, 19, 3, 20, 21]\n"
     ]
    }
   ],
   "source": [
    "def tokenize(x):\n",
    "    \"\"\"\n",
    "    Tokenize x\n",
    "    :param x: List of sentences/strings to be tokenized\n",
    "    :return: Tuple of (tokenized x data, tokenizer used to tokenize x)\n",
    "    \"\"\"\n",
    "    x_tk = Tokenizer(char_level = False)\n",
    "    x_tk.fit_on_texts(x)\n",
    "    return x_tk.texts_to_sequences(x), x_tk\n",
    "\n",
    "# Tokenize Example output\n",
    "text_sentences = [\n",
    "    'The quick brown fox jumps over the lazy dog .',\n",
    "    'By Jove , my quick study of lexicography won a prize .',\n",
    "    'This is a short sentence .']\n",
    "text_tokenized, text_tokenizer = tokenize(text_sentences)\n",
    "print(text_tokenizer.word_index)\n",
    "print()\n",
    "for sample_i, (sent, token_sent) in enumerate(zip(text_sentences, text_tokenized)):\n",
    "    print('Sequence {} in x'.format(sample_i + 1))\n",
    "    print('  Input:  {}'.format(sent))\n",
    "    print('  Output: {}'.format(token_sent))"
   ]
  },
  {
   "cell_type": "markdown",
   "metadata": {},
   "source": [
    "# padding \n",
    "Lorsque l'on regroupe les séquences d'identifiants de mots, chaque séquence doit être de la même longueur. Comme la longueur des phrases est dynamique, nous pouvons ajouter un remplissage à la fin des séquences pour qu'elles aient la même longueur.\n",
    "\n",
    "Assurez-vous que toutes les séquences anglaises ont la même longueur et que toutes les séquences françaises ont la même longueur en ajoutant du remplissage à la fin de chaque séquence en utilisant la fonction pad_sequences de Keras.\n"
   ]
  },
  {
   "cell_type": "code",
   "execution_count": 4,
   "metadata": {
    "ExecuteTime": {
     "end_time": "2022-12-06T10:51:27.727880Z",
     "start_time": "2022-12-06T10:51:27.713884Z"
    }
   },
   "outputs": [
    {
     "name": "stdout",
     "output_type": "stream",
     "text": [
      "Sequence 1 in x\n",
      "  Input:  [1 2 4 5 6 7 1 8 9]\n",
      "  Output: [1 2 4 5 6 7 1 8 9 0]\n",
      "Sequence 2 in x\n",
      "  Input:  [10 11 12  2 13 14 15 16  3 17]\n",
      "  Output: [10 11 12  2 13 14 15 16  3 17]\n",
      "Sequence 3 in x\n",
      "  Input:  [18 19  3 20 21]\n",
      "  Output: [18 19  3 20 21  0  0  0  0  0]\n"
     ]
    }
   ],
   "source": [
    "def pad(x, length=None):\n",
    "    \"\"\"\n",
    "    Pad x\n",
    "    :param x: List of sequences.\n",
    "    :param length: Length to pad the sequence to.  If None, use length of longest sequence in x.\n",
    "    :return: Padded numpy array of sequences\n",
    "    \"\"\"\n",
    "    # TODO: Implement\n",
    "    if length is None:\n",
    "        length = max([len(sentence) for sentence in x])\n",
    "    return pad_sequences(x, maxlen = length, padding = 'post')\n",
    "\n",
    "# Pad Tokenized output\n",
    "test_pad = pad(text_tokenized)\n",
    "for sample_i, (token_sent, pad_sent) in enumerate(zip(text_tokenized, test_pad)):\n",
    "    print('Sequence {} in x'.format(sample_i + 1))\n",
    "    print('  Input:  {}'.format(np.array(token_sent)))\n",
    "    print('  Output: {}'.format(pad_sent))"
   ]
  },
  {
   "cell_type": "markdown",
   "metadata": {},
   "source": [
    "# pre processing pipeline\n",
    "\n",
    "Your focus for this project is to build neural network architecture, so we won't ask you to create a preprocess pipeline. Instead, we've provided you with the implementation of the preprocess function."
   ]
  },
  {
   "cell_type": "code",
   "execution_count": 5,
   "metadata": {
    "ExecuteTime": {
     "end_time": "2022-12-06T10:51:32.784174Z",
     "start_time": "2022-12-06T10:51:27.730877Z"
    }
   },
   "outputs": [
    {
     "name": "stdout",
     "output_type": "stream",
     "text": [
      "Data Preprocessed\n",
      "Max English sentence length: 15\n",
      "Max French sentence length: 21\n",
      "English vocabulary size: 199\n",
      "French vocabulary size: 344\n"
     ]
    }
   ],
   "source": [
    "def preprocess(x, y):\n",
    "    \"\"\"\n",
    "    Preprocess x and y\n",
    "    :param x: Feature List of sentences\n",
    "    :param y: Label List of sentences\n",
    "    :return: Tuple of (Preprocessed x, Preprocessed y, x tokenizer, y tokenizer)\n",
    "    \"\"\"\n",
    "    preprocess_x, x_tk = tokenize(x)\n",
    "    preprocess_y, y_tk = tokenize(y)\n",
    "\n",
    "    preprocess_x = pad(preprocess_x)\n",
    "    preprocess_y = pad(preprocess_y)\n",
    "\n",
    "    # Keras's sparse_categorical_crossentropy function requires the labels to be in 3 dimensions\n",
    "    preprocess_y = preprocess_y.reshape(*preprocess_y.shape, 1)\n",
    "\n",
    "    return preprocess_x, preprocess_y, x_tk, y_tk\n",
    "\n",
    "preproc_english_sentences, preproc_french_sentences, english_tokenizer, french_tokenizer =\\\n",
    "    preprocess(english_sentences, french_sentences)\n",
    "    \n",
    "max_english_sequence_length = preproc_english_sentences.shape[1]\n",
    "max_french_sequence_length = preproc_french_sentences.shape[1]\n",
    "english_vocab_size = len(english_tokenizer.word_index)\n",
    "french_vocab_size = len(french_tokenizer.word_index)\n",
    "\n",
    "print('Data Preprocessed')\n",
    "print(\"Max English sentence length:\", max_english_sequence_length)\n",
    "print(\"Max French sentence length:\", max_french_sequence_length)\n",
    "print(\"English vocabulary size:\", english_vocab_size)\n",
    "print(\"French vocabulary size:\", french_vocab_size)\n"
   ]
  },
  {
   "cell_type": "markdown",
   "metadata": {},
   "source": [
    "# Model\n",
    "Dans cette section, vous allez expérimenter différentes architectures de réseaux neuronaux. Vous commencerez par former quatre architectures relativement simples.\n",
    "\n",
    "Le modèle 1 est un RNN simple\n",
    "Le modèle 2 est un RNN avec incorporation.\n",
    "Le modèle 3 est un RNN bidirectionnel.\n",
    "Le modèle 4 est un RNN encodeur-décodeur optionnel.\n",
    "Après avoir expérimenté les quatre architectures simples, vous construirez une architecture plus profonde qui est conçue pour surpasser les quatre modèles.\n",
    "\n",
    "De l'identité au texte\n",
    "Le réseau neuronal va traduire l'entrée en mots ids, ce qui n'est pas la forme finale que nous voulons. Nous voulons la traduction française. La fonction logits_to_text fait le lien entre les logits du réseau neuronal et la traduction française. Vous utiliserez cette fonction pour mieux comprendre la sortie du réseau neuronal."
   ]
  },
  {
   "cell_type": "code",
   "execution_count": 6,
   "metadata": {
    "ExecuteTime": {
     "end_time": "2022-12-06T10:51:32.799341Z",
     "start_time": "2022-12-06T10:51:32.786068Z"
    }
   },
   "outputs": [
    {
     "name": "stdout",
     "output_type": "stream",
     "text": [
      "`logits_to_text` function loaded.\n"
     ]
    }
   ],
   "source": [
    "def logits_to_text(logits, tokenizer):\n",
    "    \"\"\"\n",
    "    Turn logits from a neural network into text using the tokenizer\n",
    "    :param logits: Logits from a neural network\n",
    "    :param tokenizer: Keras Tokenizer fit on the labels\n",
    "    :return: String that represents the text of the logits\n",
    "    \"\"\"\n",
    "    index_to_words = {id: word for word, id in tokenizer.word_index.items()}\n",
    "    index_to_words[0] = ''\n",
    "\n",
    "    return ' '.join([index_to_words[prediction] for prediction in np.argmax(logits, 1)])\n",
    "\n",
    "print('`logits_to_text` function loaded.')"
   ]
  },
  {
   "cell_type": "code",
   "execution_count": 7,
   "metadata": {
    "ExecuteTime": {
     "end_time": "2022-12-06T10:51:32.814181Z",
     "start_time": "2022-12-06T10:51:32.803467Z"
    }
   },
   "outputs": [],
   "source": [
    "def model_final(input_shape, output_sequence_length, english_vocab_size, french_vocab_size):\n",
    "    \"\"\"\n",
    "    Build and train a model that incorporates embedding, encoder-decoder, and bidirectional RNN on x and y\n",
    "    :param input_shape: Tuple of input shape\n",
    "    :param output_sequence_length: Length of output sequence\n",
    "    :param english_vocab_size: Number of unique English words in the dataset\n",
    "    :param french_vocab_size: Number of unique French words in the dataset\n",
    "    :return: Keras model built, but not trained\n",
    "    \"\"\"\n",
    "    # TODO: Implement\n",
    "\n",
    "    # Hyperparameters\n",
    "    learning_rate = 0.003\n",
    "    \n",
    "    # Build the layers    \n",
    "    model = Sequential()\n",
    "    # Embedding\n",
    "    model.add(Embedding(english_vocab_size, 128, input_length=input_shape[1],\n",
    "                         input_shape=input_shape[1:]))\n",
    "    # Encoder\n",
    "    model.add(Bidirectional(GRU(128)))\n",
    "    model.add(RepeatVector(output_sequence_length))\n",
    "    # Decoder\n",
    "    model.add(Bidirectional(GRU(128, return_sequences=True)))\n",
    "    model.add(TimeDistributed(Dense(512, activation='relu')))\n",
    "    model.add(Dropout(0.5))\n",
    "    model.add(TimeDistributed(Dense(french_vocab_size, activation='softmax')))\n",
    "    model.compile(loss=sparse_categorical_crossentropy,\n",
    "                  optimizer=Adam(learning_rate),\n",
    "                  metrics=['accuracy'])\n",
    "    return model"
   ]
  },
  {
   "cell_type": "code",
   "execution_count": 23,
   "metadata": {
    "ExecuteTime": {
     "end_time": "2022-12-06T16:45:56.958770Z",
     "start_time": "2022-12-06T15:54:45.785814Z"
    }
   },
   "outputs": [
    {
     "name": "stdout",
     "output_type": "stream",
     "text": [
      "Model: \"sequential_3\"\n",
      "_________________________________________________________________\n",
      " Layer (type)                Output Shape              Param #   \n",
      "=================================================================\n",
      " embedding_3 (Embedding)     (None, 15, 128)           25600     \n",
      "                                                                 \n",
      " bidirectional_6 (Bidirectio  (None, 256)              198144    \n",
      " nal)                                                            \n",
      "                                                                 \n",
      " repeat_vector_3 (RepeatVect  (None, 21, 256)          0         \n",
      " or)                                                             \n",
      "                                                                 \n",
      " bidirectional_7 (Bidirectio  (None, 21, 256)          296448    \n",
      " nal)                                                            \n",
      "                                                                 \n",
      " time_distributed_6 (TimeDis  (None, 21, 512)          131584    \n",
      " tributed)                                                       \n",
      "                                                                 \n",
      " dropout_3 (Dropout)         (None, 21, 512)           0         \n",
      "                                                                 \n",
      " time_distributed_7 (TimeDis  (None, 21, 345)          176985    \n",
      " tributed)                                                       \n",
      "                                                                 \n",
      "=================================================================\n",
      "Total params: 828,761\n",
      "Trainable params: 828,761\n",
      "Non-trainable params: 0\n",
      "_________________________________________________________________\n",
      "Epoch 1/25\n",
      "108/108 [==============================] - 134s 1s/step - loss: 2.3265 - accuracy: 0.4951 - val_loss: 1.5433 - val_accuracy: 0.5946\n",
      "Epoch 2/25\n",
      "108/108 [==============================] - 129s 1s/step - loss: 1.3683 - accuracy: 0.6345 - val_loss: 1.1454 - val_accuracy: 0.6833\n",
      "Epoch 3/25\n",
      "108/108 [==============================] - 131s 1s/step - loss: 1.0776 - accuracy: 0.6920 - val_loss: 0.9046 - val_accuracy: 0.7313\n",
      "Epoch 4/25\n",
      "108/108 [==============================] - 131s 1s/step - loss: 0.9004 - accuracy: 0.7301 - val_loss: 0.7333 - val_accuracy: 0.7729\n",
      "Epoch 5/25\n",
      "108/108 [==============================] - 125s 1s/step - loss: 0.7516 - accuracy: 0.7662 - val_loss: 0.6287 - val_accuracy: 0.8022\n",
      "Epoch 6/25\n",
      "108/108 [==============================] - 122s 1s/step - loss: 0.6480 - accuracy: 0.7940 - val_loss: 0.4800 - val_accuracy: 0.8490\n",
      "Epoch 7/25\n",
      "108/108 [==============================] - 122s 1s/step - loss: 0.4971 - accuracy: 0.8423 - val_loss: 0.3788 - val_accuracy: 0.8830\n",
      "Epoch 8/25\n",
      "108/108 [==============================] - 121s 1s/step - loss: 0.4102 - accuracy: 0.8714 - val_loss: 0.2874 - val_accuracy: 0.9157\n",
      "Epoch 9/25\n",
      "108/108 [==============================] - 121s 1s/step - loss: 0.3266 - accuracy: 0.9001 - val_loss: 0.2287 - val_accuracy: 0.9334\n",
      "Epoch 10/25\n",
      "108/108 [==============================] - 121s 1s/step - loss: 0.2716 - accuracy: 0.9187 - val_loss: 0.2124 - val_accuracy: 0.9374\n",
      "Epoch 11/25\n",
      "108/108 [==============================] - 120s 1s/step - loss: 0.2351 - accuracy: 0.9298 - val_loss: 0.2081 - val_accuracy: 0.9360\n",
      "Epoch 12/25\n",
      "108/108 [==============================] - 120s 1s/step - loss: 0.2081 - accuracy: 0.9383 - val_loss: 0.1396 - val_accuracy: 0.9600\n",
      "Epoch 13/25\n",
      "108/108 [==============================] - 121s 1s/step - loss: 0.1835 - accuracy: 0.9453 - val_loss: 0.1337 - val_accuracy: 0.9609\n",
      "Epoch 14/25\n",
      "108/108 [==============================] - 121s 1s/step - loss: 0.1593 - accuracy: 0.9526 - val_loss: 0.1211 - val_accuracy: 0.9643\n",
      "Epoch 15/25\n",
      "108/108 [==============================] - 120s 1s/step - loss: 0.1502 - accuracy: 0.9548 - val_loss: 0.1226 - val_accuracy: 0.9646\n",
      "Epoch 16/25\n",
      "108/108 [==============================] - 120s 1s/step - loss: 0.1380 - accuracy: 0.9585 - val_loss: 0.1043 - val_accuracy: 0.9696\n",
      "Epoch 17/25\n",
      "108/108 [==============================] - 120s 1s/step - loss: 0.1303 - accuracy: 0.9606 - val_loss: 0.1065 - val_accuracy: 0.9695\n",
      "Epoch 18/25\n",
      "108/108 [==============================] - 120s 1s/step - loss: 0.1207 - accuracy: 0.9636 - val_loss: 0.0896 - val_accuracy: 0.9735\n",
      "Epoch 19/25\n",
      "108/108 [==============================] - 120s 1s/step - loss: 0.1067 - accuracy: 0.9675 - val_loss: 0.0890 - val_accuracy: 0.9731\n",
      "Epoch 20/25\n",
      "108/108 [==============================] - 120s 1s/step - loss: 0.1008 - accuracy: 0.9693 - val_loss: 0.0866 - val_accuracy: 0.9740\n",
      "Epoch 21/25\n",
      "108/108 [==============================] - 121s 1s/step - loss: 0.1489 - accuracy: 0.9544 - val_loss: 0.0904 - val_accuracy: 0.9741\n",
      "Epoch 22/25\n",
      "108/108 [==============================] - 120s 1s/step - loss: 0.0994 - accuracy: 0.9701 - val_loss: 0.0890 - val_accuracy: 0.9750\n",
      "Epoch 23/25\n",
      "108/108 [==============================] - 120s 1s/step - loss: 0.1213 - accuracy: 0.9640 - val_loss: 0.0859 - val_accuracy: 0.9750\n",
      "Epoch 24/25\n",
      "108/108 [==============================] - 120s 1s/step - loss: 0.0895 - accuracy: 0.9730 - val_loss: 0.0778 - val_accuracy: 0.9782\n",
      "Epoch 25/25\n",
      "108/108 [==============================] - 120s 1s/step - loss: 0.0786 - accuracy: 0.9762 - val_loss: 0.0769 - val_accuracy: 0.9792\n"
     ]
    },
    {
     "name": "stderr",
     "output_type": "stream",
     "text": [
      "WARNING:absl:Found untraced functions such as gru_cell_19_layer_call_fn, gru_cell_19_layer_call_and_return_conditional_losses, gru_cell_20_layer_call_fn, gru_cell_20_layer_call_and_return_conditional_losses, gru_cell_22_layer_call_fn while saving (showing 5 of 8). These functions will not be directly callable after loading.\n"
     ]
    },
    {
     "name": "stdout",
     "output_type": "stream",
     "text": [
      "INFO:tensorflow:Assets written to: model\\assets\n"
     ]
    },
    {
     "name": "stderr",
     "output_type": "stream",
     "text": [
      "INFO:tensorflow:Assets written to: model\\assets\n"
     ]
    }
   ],
   "source": [
    "def final_predictions(x, y, x_tk, y_tk):\n",
    "    \"\"\"\n",
    "    Gets predictions using the final model\n",
    "    :param x: Preprocessed English data\n",
    "    :param y: Preprocessed French data\n",
    "    :param x_tk: English tokenizer\n",
    "    :param y_tk: French tokenizer\n",
    "    \"\"\"\n",
    "    # TODO: Train neural network using model_final\n",
    "    model = model_final(x.shape,y.shape[1],\n",
    "                        len(x_tk.word_index)+1,\n",
    "                        len(y_tk.word_index)+1)\n",
    "    model.summary()\n",
    "    model.fit(x, y, batch_size=1024, epochs=25, validation_split=0.2)\n",
    "    model.save(\"model.h5\")\n",
    "\n",
    "final_predictions(preproc_english_sentences, preproc_french_sentences, english_tokenizer, french_tokenizer)"
   ]
  },
  {
   "cell_type": "markdown",
   "metadata": {},
   "source": [
    "# Vizualise accuracy & loss"
   ]
  },
  {
   "cell_type": "code",
   "execution_count": 18,
   "metadata": {
    "ExecuteTime": {
     "end_time": "2022-12-06T15:32:58.719330Z",
     "start_time": "2022-12-06T15:32:58.601041Z"
    },
    "scrolled": true
   },
   "outputs": [
    {
     "data": {
      "image/png": "[encoded data removed]",
      "text/plain": [
       "<Figure size 640x480 with 1 Axes>"
      ]
     },
     "metadata": {},
     "output_type": "display_data"
    }
   ],
   "source": [
    "loss_train = history.history['loss']\n",
    "loss_val = history.history['val_loss']\n",
    "epochs = range(1,26)\n",
    "plt.plot(epochs, loss_train, 'g', label='Training loss')\n",
    "plt.plot(epochs, loss_val, 'b', label='validation loss')\n",
    "plt.title('Training and Validation loss')\n",
    "plt.xlabel('Epochs')\n",
    "plt.ylabel('Loss')\n",
    "plt.legend()\n",
    "plt.show()"
   ]
  },
  {
   "cell_type": "code",
   "execution_count": 19,
   "metadata": {
    "ExecuteTime": {
     "end_time": "2022-12-06T15:33:55.517782Z",
     "start_time": "2022-12-06T15:33:55.410816Z"
    }
   },
   "outputs": [
    {
     "data": {
      "image/png": "[encoded data removed]",
      "text/plain": [
       "<Figure size 640x480 with 1 Axes>"
      ]
     },
     "metadata": {},
     "output_type": "display_data"
    }
   ],
   "source": [
    "loss_train = history.history['accuracy']\n",
    "loss_val = history.history['val_accuracy']\n",
    "epochs = range(1,26)\n",
    "plt.plot(epochs, loss_train, 'g', label='Training loss')\n",
    "plt.plot(epochs, loss_val, 'b', label='validation loss')\n",
    "plt.title('Training and Validation loss')\n",
    "plt.xlabel('Epochs')\n",
    "plt.ylabel('Loss')\n",
    "plt.legend()\n",
    "plt.show()"
   ]
  },
  {
   "cell_type": "markdown",
   "metadata": {},
   "source": [
    "# model save\n"
   ]
  },
  {
   "cell_type": "code",
   "execution_count": 21,
   "metadata": {
    "ExecuteTime": {
     "end_time": "2022-12-06T15:53:07.140607Z",
     "start_time": "2022-12-06T15:53:07.116156Z"
    }
   },
   "outputs": [
    {
     "ename": "AttributeError",
     "evalue": "'History' object has no attribute 'save'",
     "output_type": "error",
     "traceback": [
      "\u001b[1;31m---------------------------------------------------------------------------\u001b[0m",
      "\u001b[1;31mAttributeError\u001b[0m                            Traceback (most recent call last)",
      "Cell \u001b[1;32mIn [21], line 1\u001b[0m\n\u001b[1;32m----> 1\u001b[0m \u001b[43mhistory\u001b[49m\u001b[38;5;241;43m.\u001b[39;49m\u001b[43msave\u001b[49m(\u001b[38;5;124m'\u001b[39m\u001b[38;5;124mmodel\u001b[39m\u001b[38;5;124m'\u001b[39m)\n",
      "\u001b[1;31mAttributeError\u001b[0m: 'History' object has no attribute 'save'"
     ]
    }
   ],
   "source": [
    "history.save('model')"
   ]
  }
 ],
 "metadata": {
  "kernelspec": {
   "display_name": "Python 3 (ipykernel)",
   "language": "python",
   "name": "python3"
  },
  "language_info": {
   "codemirror_mode": {
    "name": "ipython",
    "version": 3
   },
   "file_extension": ".py",
   "mimetype": "text/x-python",
   "name": "python",
   "nbconvert_exporter": "python",
   "pygments_lexer": "ipython3",
   "version": "3.10.8"
  },
  "toc": {
   "base_numbering": 1,
   "nav_menu": {},
   "number_sections": true,
   "sideBar": true,
   "skip_h1_title": false,
   "title_cell": "Table of Contents",
   "title_sidebar": "Contents",
   "toc_cell": false,
   "toc_position": {},
   "toc_section_display": true,
   "toc_window_display": false
  },
  "varInspector": {
   "cols": {
    "lenName": 16,
    "lenType": 16,
    "lenVar": 40
   },
   "kernels_config": {
    "python": {
     "delete_cmd_postfix": "",
     "delete_cmd_prefix": "del ",
     "library": "var_list.py",
     "varRefreshCmd": "print(var_dic_list())"
    },
    "r": {
     "delete_cmd_postfix": ") ",
     "delete_cmd_prefix": "rm(",
     "library": "var_list.r",
     "varRefreshCmd": "cat(var_dic_list()) "
    }
   },
   "types_to_exclude": [
    "module",
    "function",
    "builtin_function_or_method",
    "instance",
    "_Feature"
   ],
   "window_display": false
  }
 },
 "nbformat": 4,
 "nbformat_minor": 2
}
